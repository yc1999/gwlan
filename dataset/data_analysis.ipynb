{
 "cells": [
  {
   "cell_type": "code",
   "execution_count": null,
   "metadata": {},
   "outputs": [],
   "source": [
    "# 统计删去的词的数量"
   ]
  },
  {
   "cell_type": "code",
   "execution_count": 1,
   "metadata": {},
   "outputs": [],
   "source": [
    "origin_file = \"/home/yc21/project/gwlan/dataset/wmt14_dev_data/bi_context_raw_data/dev.de2en.de\"\n",
    "masked_file = \"/home/yc21/project/gwlan/dataset/wmt14_dev_data/bi_context_raw_data/dev.en2de.de.out.bi_context.masked\""
   ]
  },
  {
   "cell_type": "code",
   "execution_count": 4,
   "metadata": {},
   "outputs": [],
   "source": [
    "origin_len = 0\n",
    "cnt = 0\n",
    "with open(origin_file) as f:\n",
    "    for line in f.read().splitlines():\n",
    "        origin_len += len(line.split())\n",
    "        cnt += 1\n",
    "masked_len = 0\n",
    "with open(masked_file) as g:\n",
    "    for line in g.read().splitlines():\n",
    "        masked_len += len(line.split())"
   ]
  },
  {
   "cell_type": "code",
   "execution_count": 5,
   "metadata": {},
   "outputs": [],
   "source": [
    "avg = (origin_len - masked_len) / cnt"
   ]
  },
  {
   "cell_type": "code",
   "execution_count": 6,
   "metadata": {},
   "outputs": [
    {
     "data": {
      "text/plain": [
       "4.637983193277311"
      ]
     },
     "execution_count": 6,
     "metadata": {},
     "output_type": "execute_result"
    }
   ],
   "source": [
    "avg"
   ]
  },
  {
   "cell_type": "code",
   "execution_count": 7,
   "metadata": {},
   "outputs": [
    {
     "name": "stdout",
     "output_type": "stream",
     "text": [
      "2975\n"
     ]
    }
   ],
   "source": [
    "print(cnt)"
   ]
  },
  {
   "cell_type": "markdown",
   "metadata": {},
   "source": []
  }
 ],
 "metadata": {
  "interpreter": {
   "hash": "22efc8b8102f82d4a44f66b4503eb30fe739cabbd084ae587d3b17a02d44700e"
  },
  "kernelspec": {
   "display_name": "Python 3.8.0 ('bth')",
   "language": "python",
   "name": "python3"
  },
  "language_info": {
   "codemirror_mode": {
    "name": "ipython",
    "version": 3
   },
   "file_extension": ".py",
   "mimetype": "text/x-python",
   "name": "python",
   "nbconvert_exporter": "python",
   "pygments_lexer": "ipython3",
   "version": "3.8.0"
  },
  "orig_nbformat": 4
 },
 "nbformat": 4,
 "nbformat_minor": 2
}
