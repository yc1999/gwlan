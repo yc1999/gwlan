{
 "cells": [
  {
   "cell_type": "code",
   "execution_count": 1,
   "metadata": {},
   "outputs": [],
   "source": [
    "from transformers import AutoTokenizer, AutoModelForSeq2SeqLM"
   ]
  },
  {
   "cell_type": "code",
   "execution_count": 4,
   "metadata": {},
   "outputs": [],
   "source": [
    "model_checkpoint = \"Helsinki-NLP/opus-mt-en-de\"\n",
    "tokenizer = AutoTokenizer.from_pretrained(model_checkpoint)"
   ]
  },
  {
   "cell_type": "code",
   "execution_count": 5,
   "metadata": {},
   "outputs": [
    {
     "data": {
      "text/plain": [
       "PreTrainedTokenizer(name_or_path='Helsinki-NLP/opus-mt-en-de', vocab_size=58101, model_max_len=512, is_fast=False, padding_side='right', special_tokens={'eos_token': '</s>', 'unk_token': '<unk>', 'pad_token': '<pad>'})"
      ]
     },
     "execution_count": 5,
     "metadata": {},
     "output_type": "execute_result"
    }
   ],
   "source": [
    "tokenizer"
   ]
  },
  {
   "cell_type": "code",
   "execution_count": 19,
   "metadata": {},
   "outputs": [
    {
     "data": {
      "text/plain": [
       "['▁hello', ',', '▁this', '▁is', '▁me', '</s>']"
      ]
     },
     "execution_count": 19,
     "metadata": {},
     "output_type": "execute_result"
    }
   ],
   "source": [
    "tokenizer.convert_ids_to_tokens(tokenizer(\"hello, this is me\")['input_ids'])"
   ]
  },
  {
   "cell_type": "code",
   "execution_count": 26,
   "metadata": {},
   "outputs": [
    {
     "data": {
      "text/plain": [
       "'▁hello, this is me'"
      ]
     },
     "execution_count": 26,
     "metadata": {},
     "output_type": "execute_result"
    }
   ],
   "source": [
    "tokenizer.decode(tokenizer(\"hello, this is me\")['input_ids'])"
   ]
  },
  {
   "cell_type": "code",
   "execution_count": 31,
   "metadata": {},
   "outputs": [],
   "source": [
    "from sacremoses import MosesTokenizer\n",
    "mt = MosesTokenizer(lang='en')\n",
    "text = u'This, is a sentence with weird\\xbb symbols\\u2026 appearing everywhere\\xbf'\n",
    "expected_tokenized = u'This , is a sentence with weird \\xbb symbols \\u2026 appearing everywhere \\xbf'"
   ]
  },
  {
   "cell_type": "code",
   "execution_count": 47,
   "metadata": {},
   "outputs": [
    {
     "name": "stdout",
     "output_type": "stream",
     "text": [
      "Help on class MosesTokenizer in module sacremoses.tokenize:\n",
      "\n",
      "class MosesTokenizer(builtins.object)\n",
      " |  MosesTokenizer(lang='en', custom_nonbreaking_prefixes_file=None)\n",
      " |  \n",
      " |  This is a Python port of the Moses Tokenizer from\n",
      " |  https://github.com/moses-smt/mosesdecoder/blob/master/scripts/tokenizer/tokenizer.perl\n",
      " |  \n",
      " |  Methods defined here:\n",
      " |  \n",
      " |  __init__(self, lang='en', custom_nonbreaking_prefixes_file=None)\n",
      " |      Initialize self.  See help(type(self)) for accurate signature.\n",
      " |  \n",
      " |  escape_xml(self, text)\n",
      " |  \n",
      " |  handles_nonbreaking_prefixes(self, text)\n",
      " |  \n",
      " |  has_numeric_only(self, text)\n",
      " |  \n",
      " |  isanyalpha(self, text)\n",
      " |  \n",
      " |  islower(self, text)\n",
      " |  \n",
      " |  penn_tokenize(self, text, return_str=False)\n",
      " |      This is a Python port of the Penn treebank tokenizer adapted by the Moses\n",
      " |      machine translation community.\n",
      " |  \n",
      " |  replace_multidots(self, text)\n",
      " |  \n",
      " |  restore_multidots(self, text)\n",
      " |  \n",
      " |  tokenize(self, text, aggressive_dash_splits=False, return_str=False, escape=True, protected_patterns=None)\n",
      " |      Python port of the Moses tokenizer.\n",
      " |      \n",
      " |          :param tokens: A single string, i.e. sentence text.\n",
      " |          :type tokens: str\n",
      " |          :param aggressive_dash_splits: Option to trigger dash split rules .\n",
      " |          :type aggressive_dash_splits: bool\n",
      " |  \n",
      " |  ----------------------------------------------------------------------\n",
      " |  Data descriptors defined here:\n",
      " |  \n",
      " |  __dict__\n",
      " |      dictionary for instance variables (if defined)\n",
      " |  \n",
      " |  __weakref__\n",
      " |      list of weak references to the object (if defined)\n",
      " |  \n",
      " |  ----------------------------------------------------------------------\n",
      " |  Data and other attributes defined here:\n",
      " |  \n",
      " |  AGGRESSIVE_HYPHEN_SPLIT = ('([0123456789ABCDEFGHIJKLMNOPQRSTUVWXYZabcd...\n",
      " |  \n",
      " |  APOSTROPHE = (\"([^'])'\", r\"\\1 ' \")\n",
      " |  \n",
      " |  ASCII_JUNK = (r'[\\000-\\037]', '')\n",
      " |  \n",
      " |  BASIC_PROTECTED_PATTERNS = [r'<\\/?\\S+\\/?>', r'<\\S+( [a-zA-Z0-9]+\\=\"?[^...\n",
      " |  \n",
      " |  BASIC_PROTECTED_PATTERN_1 = r'<\\/?\\S+\\/?>'\n",
      " |  \n",
      " |  BASIC_PROTECTED_PATTERN_2 = r'<\\S+( [a-zA-Z0-9]+\\=\"?[^\"]\")+ ?\\/?>'\n",
      " |  \n",
      " |  BASIC_PROTECTED_PATTERN_3 = r\"<\\S+( [a-zA-Z0-9]+\\='?[^']')+ ?\\/?>\"\n",
      " |  \n",
      " |  BASIC_PROTECTED_PATTERN_4 = r'[\\w\\-\\_\\.]+\\@([\\w\\-\\_]+\\.)+[a-zA-Z]{2,}'\n",
      " |  \n",
      " |  BASIC_PROTECTED_PATTERN_5 = r'(http[s]?|ftp):\\/\\/[^:\\/\\s]+(\\/\\w+)*\\/[\\...\n",
      " |  \n",
      " |  CLEAN_EXTRA_SPACE_1 = ('  *', ' ')\n",
      " |  \n",
      " |  CLEAN_EXTRA_SPACE_2 = ('^ *', '')\n",
      " |  \n",
      " |  CLEAN_EXTRA_SPACE_3 = (' *$', '')\n",
      " |  \n",
      " |  COMMA_1 = ('([^0123456789²³¹¼½¾٠١٢٣٤٥٦٧٨٩۰۱۲۳۴۵۶۷۸۹߀߁߂߃߄߅߆߇߈...꧔꧕꧖꧗꧘꧙꧰...\n",
      " |  \n",
      " |  COMMA_2 = ('([0123456789²³¹¼½¾٠١٢٣٤٥٦٧٨٩۰۱۲۳۴۵۶۷۸۹߀߁߂߃߄߅߆߇߈߉...꧔꧕꧖꧗꧘꧙꧰...\n",
      " |  \n",
      " |  COMMA_3 = ('([^0123456789²³¹¼½¾٠١٢٣٤٥٦٧٨٩۰۱۲۳۴۵۶۷۸۹߀߁߂߃߄߅߆߇߈...꧔꧕꧖꧗꧘꧙꧰...\n",
      " |  \n",
      " |  COMMA_SEPARATE_1 = ('([^0123456789²³¹¼½¾٠١٢٣٤٥٦٧٨٩۰۱۲۳۴۵۶۷۸۹߀߁߂߃߄߅߆߇߈....\n",
      " |  \n",
      " |  COMMA_SEPARATE_2 = ('[,]([^0123456789²³¹¼½¾٠١٢٣٤٥٦٧٨٩۰۱۲۳۴۵۶۷۸۹߀߁߂߃߄߅....\n",
      " |  \n",
      " |  COMMA_SEPARATE_3 = ('([0123456789²³¹¼½¾٠١٢٣٤٥٦٧٨٩۰۱۲۳۴۵۶۷۸۹߀߁߂߃߄߅߆߇߈߉....\n",
      " |  \n",
      " |  CONTRACTION_1 = (\"'([sSmMdD]) \", r\" '\\1 \")\n",
      " |  \n",
      " |  CONTRACTION_10 = (' ([Cc])annot ', r' \\1an not ')\n",
      " |  \n",
      " |  CONTRACTION_11 = (\" ([Dd])'ye \", r\" \\1' ye \")\n",
      " |  \n",
      " |  CONTRACTION_12 = (' ([Gg])imme ', r' \\1im me ')\n",
      " |  \n",
      " |  CONTRACTION_13 = (' ([Gg])onna ', r' \\1on na ')\n",
      " |  \n",
      " |  CONTRACTION_14 = (' ([Gg])otta ', r' \\1ot ta ')\n",
      " |  \n",
      " |  CONTRACTION_15 = (' ([Ll])emme ', r' \\1em me ')\n",
      " |  \n",
      " |  CONTRACTION_16 = (\" ([Mm])ore'n \", r\" \\1ore 'n \")\n",
      " |  \n",
      " |  CONTRACTION_17 = (\" '([Tt])is \", r\" '\\1 is \")\n",
      " |  \n",
      " |  CONTRACTION_18 = (\" '([Tt])was \", r\" '\\1 was \")\n",
      " |  \n",
      " |  CONTRACTION_19 = (' ([Ww])anna ', r' \\1an na ')\n",
      " |  \n",
      " |  CONTRACTION_2 = (\"'ll \", \" 'll \")\n",
      " |  \n",
      " |  CONTRACTION_3 = (\"'re \", \" 're \")\n",
      " |  \n",
      " |  CONTRACTION_4 = (\"'ve \", \" 've \")\n",
      " |  \n",
      " |  CONTRACTION_5 = (\"n't \", \" n't \")\n",
      " |  \n",
      " |  CONTRACTION_6 = (\"'LL \", \" 'LL \")\n",
      " |  \n",
      " |  CONTRACTION_7 = (\"'RE \", \" 'RE \")\n",
      " |  \n",
      " |  CONTRACTION_8 = (\"'VE \", \" 'VE \")\n",
      " |  \n",
      " |  CONTRACTION_9 = (\"N'T \", \" N'T \")\n",
      " |  \n",
      " |  CONVERT_DOUBLE_TO_SINGLE_QUOTES = ('\"', \" '' \")\n",
      " |  \n",
      " |  CONVERT_PARENTHESIS_1 = (r'\\(', '-LRB-')\n",
      " |  \n",
      " |  CONVERT_PARENTHESIS_2 = (r'\\)', '-RRB-')\n",
      " |  \n",
      " |  CONVERT_PARENTHESIS_3 = (r'\\[', '-LSB-')\n",
      " |  \n",
      " |  CONVERT_PARENTHESIS_4 = (r'\\]', '-RSB-')\n",
      " |  \n",
      " |  CONVERT_PARENTHESIS_5 = (r'\\{', '-LCB-')\n",
      " |  \n",
      " |  CONVERT_PARENTHESIS_6 = (r'\\}', '-RCB-')\n",
      " |  \n",
      " |  DEDUPLICATE_SPACE = (r'\\s+', ' ')\n",
      " |  \n",
      " |  DIRECTIONAL_QUOTE_1 = ('^``', '`` ')\n",
      " |  \n",
      " |  DIRECTIONAL_QUOTE_2 = ('^\"', '`` ')\n",
      " |  \n",
      " |  DIRECTIONAL_QUOTE_3 = ('^`([^`])', r'` \\1')\n",
      " |  \n",
      " |  DIRECTIONAL_QUOTE_4 = (\"^'\", '`  ')\n",
      " |  \n",
      " |  DIRECTIONAL_QUOTE_5 = ('([ ([{<])\"', r'\\1 `` ')\n",
      " |  \n",
      " |  DIRECTIONAL_QUOTE_6 = ('([ ([{<])``', r'\\1 `` ')\n",
      " |  \n",
      " |  DIRECTIONAL_QUOTE_7 = ('([ ([{<])`([^`])', r'\\1 ` \\2')\n",
      " |  \n",
      " |  DIRECTIONAL_QUOTE_8 = (\"([ ([{<])'\", r'\\1 ` ')\n",
      " |  \n",
      " |  ENGLISH_SPECIFIC_APOSTROPHE = [('([^ABCDEFGHIJKLMNOPQRSTUVWXYZabcdefgh...\n",
      " |  \n",
      " |  EN_SPECIFIC_1 = ('([^ABCDEFGHIJKLMNOPQRSTUVWXYZabcdefghijklmnopqrs...ꣳ...\n",
      " |  \n",
      " |  EN_SPECIFIC_2 = ('([^ABCDEFGHIJKLMNOPQRSTUVWXYZabcdefghijklmnopqrs...ꣳ...\n",
      " |  \n",
      " |  EN_SPECIFIC_3 = ('([ABCDEFGHIJKLMNOPQRSTUVWXYZabcdefghijklmnopqrst...ꣳ...\n",
      " |  \n",
      " |  EN_SPECIFIC_4 = ('([ABCDEFGHIJKLMNOPQRSTUVWXYZabcdefghijklmnopqrst...ꣳ...\n",
      " |  \n",
      " |  EN_SPECIFIC_5 = (\"([0123456789²³¹¼½¾٠١٢٣٤٥٦٧٨٩۰۱۲۳۴۵۶۷۸۹߀߁߂߃߄߅߆߇߈߉...꧲...\n",
      " |  \n",
      " |  ESCAPE_AMPERSAND = ('&', '&amp;')\n",
      " |  \n",
      " |  ESCAPE_DOUBLE_QUOTE = (r'\\\"', '&quot;')\n",
      " |  \n",
      " |  ESCAPE_LEFT_ANGLE_BRACKET = ('<', '&lt;')\n",
      " |  \n",
      " |  ESCAPE_LEFT_SQUARE_BRACKET = (r'\\[', '&#91;')\n",
      " |  \n",
      " |  ESCAPE_PIPE = (r'\\|', '&#124;')\n",
      " |  \n",
      " |  ESCAPE_RIGHT_ANGLE_BRACKET = ('>', '&gt;')\n",
      " |  \n",
      " |  ESCAPE_RIGHT_SQUARE_BRACKET = (']', '&#93;')\n",
      " |  \n",
      " |  ESCAPE_SINGLE_QUOTE = (r\"\\'\", '&apos;')\n",
      " |  \n",
      " |  FINAL_PERIOD = ('([^.])([.])([\\\\]\\\\)}>\"\\']*) ?$', r'\\1 \\2\\3')\n",
      " |  \n",
      " |  FR_IT_SPECIFIC_1 = ('([^ABCDEFGHIJKLMNOPQRSTUVWXYZabcdefghijklmnopqrs....\n",
      " |  \n",
      " |  FR_IT_SPECIFIC_2 = ('([^ABCDEFGHIJKLMNOPQRSTUVWXYZabcdefghijklmnopqrs....\n",
      " |  \n",
      " |  FR_IT_SPECIFIC_3 = ('([ABCDEFGHIJKLMNOPQRSTUVWXYZabcdefghijklmnopqrst....\n",
      " |  \n",
      " |  FR_IT_SPECIFIC_4 = ('([ABCDEFGHIJKLMNOPQRSTUVWXYZabcdefghijklmnopqrst....\n",
      " |  \n",
      " |  FR_IT_SPECIFIC_APOSTROPHE = [('([^ABCDEFGHIJKLMNOPQRSTUVWXYZabcdefghij...\n",
      " |  \n",
      " |  HANDLES_SINGLE_QUOTES = (\"([^'])' \", r\"\\1 ' \")\n",
      " |  \n",
      " |  INTRATOKEN_SLASHES = ('([0123456789ABCDEFGHIJKLMNOPQRSTUVWXYZabcdefghi...\n",
      " |  \n",
      " |  IsAlnum = '0123456789ABCDEFGHIJKLMNOPQRSTUVWXYZabcdefghijkl...᮫꣄ꣳꣴ꥓꫶𐨿𑁆...\n",
      " |  \n",
      " |  IsAlpha = 'ABCDEFGHIJKLMNOPQRSTUVWXYZabcdefghijklmnopqrstuv...᮫꣄ꣳꣴ꥓꫶𐨿𑁆...\n",
      " |  \n",
      " |  IsLower = 'abcdefghijklmnopqrstuvwxyzªµºßàáâãäåæçèéêëìíîïðñ...𝞻𝞼𝞽𝞾𝞿𝟀𝟁𝟂...\n",
      " |  \n",
      " |  IsN = '0123456789²³¹¼½¾٠١٢٣٤٥٦٧٨٩۰۱۲۳۴۵۶۷۸۹߀߁߂߃߄߅߆߇߈߉०१...꧒꧓꧔꧕꧖꧗꧘꧙꧰꧱꧲꧳...\n",
      " |  \n",
      " |  IsSc = '$¢£¤¥֏؋৲৳৻૱௹฿៛₠₡₢₣₤₥₦₧₨₩₪₫€₭₮₯₰₱₲₳₴₵₶₷₸₹₺₻₼₽꠸﷼﹩＄￠￡￥￦\\n'\n",
      " |  \n",
      " |  IsSo = '¦©®°҂֍֎؎؏۞۩۽۾߶৺୰௳௴௵௶௷௸௺౿൹༁༂༃༓༕༖༗༚༛༜༝༞༟༴༶༸྾྿࿀࿁࿂࿃࿄...꒨꒩꒪꒫꒬꒭꒮꒯꒰꒱꒲...\n",
      " |  \n",
      " |  LEFT_STRIP = ('^ ', '')\n",
      " |  \n",
      " |  MID_STRIP = (' +', ' ')\n",
      " |  \n",
      " |  MOSES_ESCAPE_XML_REGEXES = [('&', '&amp;'), (r'\\|', '&#124;'), ('<', '...\n",
      " |  \n",
      " |  MOSES_PENN_REGEXES_1 = [(r'\\s+', ' '), (r'[\\000-\\037]', ''), ('^``', '...\n",
      " |  \n",
      " |  MOSES_PENN_REGEXES_2 = [('_ELLIPSIS_', r'\\.\\.\\.'), ('  *', ' '), ('^ *...\n",
      " |  \n",
      " |  NON_SPECIFIC_APOSTROPHE = (r\"\\'\", \" ' \")\n",
      " |  \n",
      " |  PAD_DOUBLE_DASHES = ('--', ' -- ')\n",
      " |  \n",
      " |  PAD_END_OF_STR = ('$', ' ')\n",
      " |  \n",
      " |  PAD_NOT_ISALNUM = (r\"([^0123456789ABCDEFGHIJKLMNOPQRSTUVWXYZabcdefghi....\n",
      " |  \n",
      " |  PAD_PARENTHESIS = (r'([\\]\\[\\(\\){}<>])', r' \\1 ')\n",
      " |  \n",
      " |  PAD_QUESTION_EXCLAMATION_MARK = ('([?!])', r' \\1 ')\n",
      " |  \n",
      " |  PAD_START_OF_STR = ('^', ' ')\n",
      " |  \n",
      " |  REPLACE_DOT_WITH_LITERALSTRING_1 = (r'\\.([\\.]+)', ' DOTMULTI\\x01')\n",
      " |  \n",
      " |  REPLACE_DOT_WITH_LITERALSTRING_2 = (r'DOTMULTI\\.([^\\.])', 'DOTDOTMULTI...\n",
      " |  \n",
      " |  REPLACE_DOT_WITH_LITERALSTRING_3 = (r'DOTMULTI\\.', 'DOTDOTMULTI')\n",
      " |  \n",
      " |  REPLACE_ELLIPSIS = (r'\\.\\.\\.', ' _ELLIPSIS_ ')\n",
      " |  \n",
      " |  RESTORE_ELLIPSIS = ('_ELLIPSIS_', r'\\.\\.\\.')\n",
      " |  \n",
      " |  RIGHT_STRIP = (' $', '')\n",
      " |  \n",
      " |  SYMBOLS = ('([;:@#\\\\$%&$¢£¤¥֏؋৲৳৻૱௹฿៛₠₡₢₣₤₥₦₧₨₩₪₫€₭₮₯₰₱₲₳₴₵₶₷...꒪꒫꒬꒭꒮꒯...\n",
      " |  \n",
      " |  TRAILING_DOT_APOSTROPHE = (r\"\\.' ?$\", \" . ' \")\n",
      " |  \n",
      " |  WEB_PROTECTED_PATTERNS = [r'((https?|ftp|rsync)://|www\\.)[^ ]*', r'[\\w...\n",
      "\n"
     ]
    }
   ],
   "source": [
    "help(MosesTokenizer)"
   ]
  },
  {
   "cell_type": "code",
   "execution_count": 32,
   "metadata": {},
   "outputs": [
    {
     "data": {
      "text/plain": [
       "['This',\n",
       " ',',\n",
       " 'is',\n",
       " 'a',\n",
       " 'sentence',\n",
       " 'with',\n",
       " 'weird',\n",
       " '»',\n",
       " 'symbols',\n",
       " '…',\n",
       " 'appearing',\n",
       " 'everywhere',\n",
       " '¿']"
      ]
     },
     "execution_count": 32,
     "metadata": {},
     "output_type": "execute_result"
    }
   ],
   "source": [
    "tokenized_text = mt.tokenize(text,)\n",
    "tokenized_text"
   ]
  },
  {
   "cell_type": "code",
   "execution_count": 33,
   "metadata": {},
   "outputs": [
    {
     "data": {
      "text/plain": [
       "'This , is a sentence with weird » symbols … appearing everywhere ¿'"
      ]
     },
     "execution_count": 33,
     "metadata": {},
     "output_type": "execute_result"
    }
   ],
   "source": [
    "tokenized_text = mt.tokenize(text, return_str=True)\n",
    "tokenized_text"
   ]
  },
  {
   "cell_type": "code",
   "execution_count": 34,
   "metadata": {},
   "outputs": [
    {
     "name": "stdout",
     "output_type": "stream",
     "text": [
      "Help on method tokenize in module sacremoses.tokenize:\n",
      "\n",
      "tokenize(text, aggressive_dash_splits=False, return_str=False, escape=True, protected_patterns=None) method of sacremoses.tokenize.MosesTokenizer instance\n",
      "    Python port of the Moses tokenizer.\n",
      "    \n",
      "        :param tokens: A single string, i.e. sentence text.\n",
      "        :type tokens: str\n",
      "        :param aggressive_dash_splits: Option to trigger dash split rules .\n",
      "        :type aggressive_dash_splits: bool\n",
      "\n"
     ]
    }
   ],
   "source": [
    "help(mt.tokenize)"
   ]
  },
  {
   "cell_type": "code",
   "execution_count": 45,
   "metadata": {},
   "outputs": [],
   "source": [
    "sent = u\"&quot; maybe i &apos;ll call some friends so we can have a laugh together &quot; said samira ford , 20 ##at##-##at## year ##at##-##at## old communications student .\""
   ]
  },
  {
   "cell_type": "code",
   "execution_count": 46,
   "metadata": {},
   "outputs": [
    {
     "data": {
      "text/plain": [
       "['&amp;',\n",
       " 'quot',\n",
       " ';',\n",
       " 'maybe',\n",
       " 'i',\n",
       " '&amp;',\n",
       " 'apos',\n",
       " ';',\n",
       " 'll',\n",
       " 'call',\n",
       " 'some',\n",
       " 'friends',\n",
       " 'so',\n",
       " 'we',\n",
       " 'can',\n",
       " 'have',\n",
       " 'a',\n",
       " 'laugh',\n",
       " 'together',\n",
       " '&amp;',\n",
       " 'quot',\n",
       " ';',\n",
       " 'said',\n",
       " 'samira',\n",
       " 'ford',\n",
       " ',',\n",
       " '20',\n",
       " '#',\n",
       " '#',\n",
       " 'at',\n",
       " '#',\n",
       " '#',\n",
       " '-',\n",
       " '#',\n",
       " '#',\n",
       " 'at',\n",
       " '#',\n",
       " '#',\n",
       " 'year',\n",
       " '#',\n",
       " '#',\n",
       " 'at',\n",
       " '#',\n",
       " '#',\n",
       " '-',\n",
       " '#',\n",
       " '#',\n",
       " 'at',\n",
       " '#',\n",
       " '#',\n",
       " 'old',\n",
       " 'communications',\n",
       " 'student',\n",
       " '.']"
      ]
     },
     "execution_count": 46,
     "metadata": {},
     "output_type": "execute_result"
    }
   ],
   "source": [
    "mt.tokenize(sent)"
   ]
  },
  {
   "cell_type": "code",
   "execution_count": 48,
   "metadata": {},
   "outputs": [],
   "source": [
    "from sacremoses import MosesDetokenizer"
   ]
  },
  {
   "cell_type": "code",
   "execution_count": 49,
   "metadata": {},
   "outputs": [],
   "source": [
    "md = MosesDetokenizer(lang=\"en\")"
   ]
  },
  {
   "cell_type": "code",
   "execution_count": 50,
   "metadata": {},
   "outputs": [
    {
     "data": {
      "text/plain": [
       "'& q u o t; m a y b e i & a p o s; l l c a l l s o m e f r i e n d s s o w e c a n h a v e a l a u g h t o g e t h e r & q u o t; s a i d s a m i r a f o r d, 2 0 # # a t # # - # # a t # # y e a r # # a t # # - # # a t # # o l d c o m m u n i c a t i o n s s t u d e n t.'"
      ]
     },
     "execution_count": 50,
     "metadata": {},
     "output_type": "execute_result"
    }
   ],
   "source": [
    "md.detokenize()"
   ]
  },
  {
   "cell_type": "code",
   "execution_count": 51,
   "metadata": {},
   "outputs": [],
   "source": [
    "mt, md = MosesTokenizer(lang='en'), MosesDetokenizer(lang='en')"
   ]
  },
  {
   "cell_type": "code",
   "execution_count": 52,
   "metadata": {},
   "outputs": [],
   "source": [
    "sent = \"This ain't funny. It's actually hillarious, yet double Ls. | [] < > [ ] & You're gonna shake it off? Don't?\""
   ]
  },
  {
   "cell_type": "code",
   "execution_count": 53,
   "metadata": {},
   "outputs": [],
   "source": [
    "expected_tokens = [u'This', u'ain', u'&apos;t', u'funny', u'.', u'It', u'&apos;s', u'actually', u'hillarious', u',', u'yet', u'double', u'Ls', u'.', u'&#124;', u'&#91;', u'&#93;', u'&lt;', u'&gt;', u'&#91;', u'&#93;', u'&amp;', u'You', u'&apos;re', u'gonna', u'shake', u'it', u'off', u'?', u'Don', u'&apos;t', u'?']"
   ]
  },
  {
   "cell_type": "code",
   "execution_count": 54,
   "metadata": {},
   "outputs": [],
   "source": [
    "expected_detokens = \"This ain't funny. It's actually hillarious, yet double Ls. | [] < > [] & You're gonna shake it off? Don't?\""
   ]
  },
  {
   "cell_type": "code",
   "execution_count": 55,
   "metadata": {},
   "outputs": [
    {
     "data": {
      "text/plain": [
       "True"
      ]
     },
     "execution_count": 55,
     "metadata": {},
     "output_type": "execute_result"
    }
   ],
   "source": [
    "mt.tokenize(sent) == expected_tokens"
   ]
  },
  {
   "cell_type": "code",
   "execution_count": 58,
   "metadata": {},
   "outputs": [
    {
     "data": {
      "text/plain": [
       "True"
      ]
     },
     "execution_count": 58,
     "metadata": {},
     "output_type": "execute_result"
    }
   ],
   "source": [
    "md.detokenize(expected_tokens) == expected_detokens"
   ]
  },
  {
   "cell_type": "code",
   "execution_count": 59,
   "metadata": {},
   "outputs": [
    {
     "data": {
      "text/plain": [
       "['This',\n",
       " 'ain',\n",
       " '&apos;t',\n",
       " 'funny',\n",
       " '.',\n",
       " 'It',\n",
       " '&apos;s',\n",
       " 'actually',\n",
       " 'hillarious',\n",
       " ',',\n",
       " 'yet',\n",
       " 'double',\n",
       " 'Ls',\n",
       " '.',\n",
       " '&#124;',\n",
       " '&#91;',\n",
       " '&#93;',\n",
       " '&lt;',\n",
       " '&gt;',\n",
       " '&#91;',\n",
       " '&#93;',\n",
       " '&amp;',\n",
       " 'You',\n",
       " '&apos;re',\n",
       " 'gonna',\n",
       " 'shake',\n",
       " 'it',\n",
       " 'off',\n",
       " '?',\n",
       " 'Don',\n",
       " '&apos;t',\n",
       " '?']"
      ]
     },
     "execution_count": 59,
     "metadata": {},
     "output_type": "execute_result"
    }
   ],
   "source": [
    "expected_tokens"
   ]
  },
  {
   "cell_type": "code",
   "execution_count": 61,
   "metadata": {},
   "outputs": [
    {
     "data": {
      "text/plain": [
       "'I &apos;ll This &apos;s'"
      ]
     },
     "execution_count": 61,
     "metadata": {},
     "output_type": "execute_result"
    }
   ],
   "source": [
    "sent = \"I'll This's\"\n",
    "mt.tokenize(sent, return_str=True)"
   ]
  },
  {
   "cell_type": "code",
   "execution_count": 63,
   "metadata": {},
   "outputs": [
    {
     "data": {
      "text/plain": [
       "['I', '&amp;', 'apos', ';', 'll', 'This', '&amp;', 'apos', ';', 's']"
      ]
     },
     "execution_count": 63,
     "metadata": {},
     "output_type": "execute_result"
    }
   ],
   "source": [
    "sent = \"I &apos;ll This &apos;s\"\n",
    "mt.tokenize(sent, escape=True)"
   ]
  },
  {
   "cell_type": "code",
   "execution_count": 66,
   "metadata": {},
   "outputs": [
    {
     "name": "stderr",
     "output_type": "stream",
     "text": [
      "Some weights of the model checkpoint at bert-base-uncased were not used when initializing BertForMaskedLM: ['cls.seq_relationship.weight', 'cls.seq_relationship.bias']\n",
      "- This IS expected if you are initializing BertForMaskedLM from the checkpoint of a model trained on another task or with another architecture (e.g. initializing a BertForSequenceClassification model from a BertForPreTraining model).\n",
      "- This IS NOT expected if you are initializing BertForMaskedLM from the checkpoint of a model that you expect to be exactly identical (initializing a BertForSequenceClassification model from a BertForSequenceClassification model).\n"
     ]
    }
   ],
   "source": [
    "from transformers import BertTokenizer, BertForMaskedLM\n",
    "import torch\n",
    "\n",
    "tokenizer = BertTokenizer.from_pretrained(\"bert-base-uncased\")\n",
    "model = BertForMaskedLM.from_pretrained(\"bert-base-uncased\")"
   ]
  },
  {
   "cell_type": "code",
   "execution_count": 67,
   "metadata": {},
   "outputs": [],
   "source": [
    "inputs = tokenizer(\"The capital of France is [MASK].\", return_tensors=\"pt\")\n",
    "labels = tokenizer(\"The capital of France is Paris.\", return_tensors=\"pt\")[\"input_ids\"]"
   ]
  },
  {
   "cell_type": "code",
   "execution_count": 68,
   "metadata": {},
   "outputs": [
    {
     "name": "stdout",
     "output_type": "stream",
     "text": [
      "tensor([[[ -6.4346,  -6.4063,  -6.4097,  ...,  -5.7691,  -5.6326,  -3.7883],\n",
      "         [-14.0119, -14.7240, -14.2120,  ..., -11.6976, -10.7304, -12.7618],\n",
      "         [ -9.6561, -10.3125,  -9.7459,  ...,  -8.7782,  -6.6036, -12.6596],\n",
      "         ...,\n",
      "         [ -3.7861,  -3.8572,  -3.5644,  ...,  -2.5593,  -3.1093,  -4.3820],\n",
      "         [-11.6598, -11.4274, -11.9266,  ...,  -9.8772, -10.2103,  -4.7594],\n",
      "         [-11.7267, -11.7509, -11.8040,  ..., -10.5943, -10.9407,  -7.5151]]],\n",
      "       grad_fn=<AddBackward0>)\n"
     ]
    }
   ],
   "source": [
    "outputs = model(**inputs, labels=labels)\n",
    "loss = outputs.loss\n",
    "logits = outputs.logits\n",
    "print(logits)"
   ]
  },
  {
   "cell_type": "code",
   "execution_count": 69,
   "metadata": {},
   "outputs": [
    {
     "data": {
      "text/plain": [
       "torch.Size([1, 9, 30522])"
      ]
     },
     "execution_count": 69,
     "metadata": {},
     "output_type": "execute_result"
    }
   ],
   "source": [
    "logits.size()"
   ]
  },
  {
   "cell_type": "code",
   "execution_count": 70,
   "metadata": {},
   "outputs": [
    {
     "data": {
      "text/plain": [
       "torch.Size([1, 9])"
      ]
     },
     "execution_count": 70,
     "metadata": {},
     "output_type": "execute_result"
    }
   ],
   "source": [
    "labels.size()"
   ]
  },
  {
   "cell_type": "code",
   "execution_count": 72,
   "metadata": {},
   "outputs": [
    {
     "data": {
      "text/plain": [
       "torch.Size([1, 9])"
      ]
     },
     "execution_count": 72,
     "metadata": {},
     "output_type": "execute_result"
    }
   ],
   "source": [
    "inputs.input_ids.size()"
   ]
  },
  {
   "cell_type": "code",
   "execution_count": 3,
   "metadata": {},
   "outputs": [],
   "source": [
    "from torch.nn import Transformer\n",
    "import torch"
   ]
  },
  {
   "cell_type": "code",
   "execution_count": 7,
   "metadata": {},
   "outputs": [
    {
     "data": {
      "text/plain": [
       "torch.Size([20, 32, 512])"
      ]
     },
     "execution_count": 7,
     "metadata": {},
     "output_type": "execute_result"
    }
   ],
   "source": [
    "transformer_model = Transformer(nhead=16, num_encoder_layers=12)\n",
    "src = torch.rand((10, 32, 512)) # 读入的是embedding，而不是input tokens\n",
    "tgt = torch.rand((20, 32, 512))\n",
    "out = transformer_model(src, tgt)\n",
    "out.size()"
   ]
  },
  {
   "cell_type": "code",
   "execution_count": 1,
   "metadata": {},
   "outputs": [
    {
     "data": {
      "application/vnd.jupyter.widget-view+json": {
       "model_id": "9a0e2d73d80e4db2a6a5d33d6e01e79a",
       "version_major": 2,
       "version_minor": 0
      },
      "text/plain": [
       "Downloading:   0%|          | 0.00/1.47k [00:00<?, ?B/s]"
      ]
     },
     "metadata": {},
     "output_type": "display_data"
    },
    {
     "ename": "ReadTimeout",
     "evalue": "HTTPSConnectionPool(host='raw.githubusercontent.com', port=443): Read timed out. (read timeout=100.0)",
     "output_type": "error",
     "traceback": [
      "\u001b[0;31m---------------------------------------------------------------------------\u001b[0m",
      "\u001b[0;31mReadTimeout\u001b[0m                               Traceback (most recent call last)",
      "\u001b[0;32m/tmp/ipykernel_57694/872712218.py\u001b[0m in \u001b[0;36m<module>\u001b[0;34m\u001b[0m\n\u001b[1;32m      1\u001b[0m \u001b[0;32mfrom\u001b[0m \u001b[0mdatasets\u001b[0m \u001b[0;32mimport\u001b[0m \u001b[0mload_dataset\u001b[0m\u001b[0;34m\u001b[0m\u001b[0;34m\u001b[0m\u001b[0m\n\u001b[1;32m      2\u001b[0m \u001b[0;34m\u001b[0m\u001b[0m\n\u001b[0;32m----> 3\u001b[0;31m \u001b[0mdataset\u001b[0m \u001b[0;34m=\u001b[0m \u001b[0mload_dataset\u001b[0m\u001b[0;34m(\u001b[0m\u001b[0;34m\"wmt14\"\u001b[0m\u001b[0;34m)\u001b[0m\u001b[0;34m\u001b[0m\u001b[0;34m\u001b[0m\u001b[0m\n\u001b[0m",
      "\u001b[0;32m~/software/anaconda3/envs/bth/lib/python3.8/site-packages/datasets/load.py\u001b[0m in \u001b[0;36mload_dataset\u001b[0;34m(path, name, data_dir, data_files, split, cache_dir, features, download_config, download_mode, ignore_verifications, keep_in_memory, save_infos, revision, use_auth_token, task, streaming, script_version, **config_kwargs)\u001b[0m\n\u001b[1;32m   1673\u001b[0m \u001b[0;34m\u001b[0m\u001b[0m\n\u001b[1;32m   1674\u001b[0m     \u001b[0;31m# Create a dataset builder\u001b[0m\u001b[0;34m\u001b[0m\u001b[0;34m\u001b[0m\u001b[0;34m\u001b[0m\u001b[0m\n\u001b[0;32m-> 1675\u001b[0;31m     builder_instance = load_dataset_builder(\n\u001b[0m\u001b[1;32m   1676\u001b[0m         \u001b[0mpath\u001b[0m\u001b[0;34m=\u001b[0m\u001b[0mpath\u001b[0m\u001b[0;34m,\u001b[0m\u001b[0;34m\u001b[0m\u001b[0;34m\u001b[0m\u001b[0m\n\u001b[1;32m   1677\u001b[0m         \u001b[0mname\u001b[0m\u001b[0;34m=\u001b[0m\u001b[0mname\u001b[0m\u001b[0;34m,\u001b[0m\u001b[0;34m\u001b[0m\u001b[0;34m\u001b[0m\u001b[0m\n",
      "\u001b[0;32m~/software/anaconda3/envs/bth/lib/python3.8/site-packages/datasets/load.py\u001b[0m in \u001b[0;36mload_dataset_builder\u001b[0;34m(path, name, data_dir, data_files, cache_dir, features, download_config, download_mode, revision, use_auth_token, script_version, **config_kwargs)\u001b[0m\n\u001b[1;32m   1510\u001b[0m         \u001b[0mdownload_config\u001b[0m \u001b[0;34m=\u001b[0m \u001b[0mdownload_config\u001b[0m\u001b[0;34m.\u001b[0m\u001b[0mcopy\u001b[0m\u001b[0;34m(\u001b[0m\u001b[0;34m)\u001b[0m \u001b[0;32mif\u001b[0m \u001b[0mdownload_config\u001b[0m \u001b[0;32melse\u001b[0m \u001b[0mDownloadConfig\u001b[0m\u001b[0;34m(\u001b[0m\u001b[0;34m)\u001b[0m\u001b[0;34m\u001b[0m\u001b[0;34m\u001b[0m\u001b[0m\n\u001b[1;32m   1511\u001b[0m         \u001b[0mdownload_config\u001b[0m\u001b[0;34m.\u001b[0m\u001b[0muse_auth_token\u001b[0m \u001b[0;34m=\u001b[0m \u001b[0muse_auth_token\u001b[0m\u001b[0;34m\u001b[0m\u001b[0;34m\u001b[0m\u001b[0m\n\u001b[0;32m-> 1512\u001b[0;31m     dataset_module = dataset_module_factory(\n\u001b[0m\u001b[1;32m   1513\u001b[0m         \u001b[0mpath\u001b[0m\u001b[0;34m,\u001b[0m \u001b[0mrevision\u001b[0m\u001b[0;34m=\u001b[0m\u001b[0mrevision\u001b[0m\u001b[0;34m,\u001b[0m \u001b[0mdownload_config\u001b[0m\u001b[0;34m=\u001b[0m\u001b[0mdownload_config\u001b[0m\u001b[0;34m,\u001b[0m \u001b[0mdownload_mode\u001b[0m\u001b[0;34m=\u001b[0m\u001b[0mdownload_mode\u001b[0m\u001b[0;34m,\u001b[0m \u001b[0mdata_files\u001b[0m\u001b[0;34m=\u001b[0m\u001b[0mdata_files\u001b[0m\u001b[0;34m\u001b[0m\u001b[0;34m\u001b[0m\u001b[0m\n\u001b[1;32m   1514\u001b[0m     )\n",
      "\u001b[0;32m~/software/anaconda3/envs/bth/lib/python3.8/site-packages/datasets/load.py\u001b[0m in \u001b[0;36mdataset_module_factory\u001b[0;34m(path, revision, download_config, download_mode, force_local_path, dynamic_modules_path, data_files, **download_kwargs)\u001b[0m\n\u001b[1;32m   1201\u001b[0m                         \u001b[0;34mf\"Couldn't find '{path}' on the Hugging Face Hub either: {type(e1).__name__}: {e1}\"\u001b[0m\u001b[0;34m\u001b[0m\u001b[0;34m\u001b[0m\u001b[0m\n\u001b[1;32m   1202\u001b[0m                     ) from None\n\u001b[0;32m-> 1203\u001b[0;31m                 \u001b[0;32mraise\u001b[0m \u001b[0me1\u001b[0m \u001b[0;32mfrom\u001b[0m \u001b[0;32mNone\u001b[0m\u001b[0;34m\u001b[0m\u001b[0;34m\u001b[0m\u001b[0m\n\u001b[0m\u001b[1;32m   1204\u001b[0m     \u001b[0;32melse\u001b[0m\u001b[0;34m:\u001b[0m\u001b[0;34m\u001b[0m\u001b[0;34m\u001b[0m\u001b[0m\n\u001b[1;32m   1205\u001b[0m         raise FileNotFoundError(\n",
      "\u001b[0;32m~/software/anaconda3/envs/bth/lib/python3.8/site-packages/datasets/load.py\u001b[0m in \u001b[0;36mdataset_module_factory\u001b[0;34m(path, revision, download_config, download_mode, force_local_path, dynamic_modules_path, data_files, **download_kwargs)\u001b[0m\n\u001b[1;32m   1139\u001b[0m             \u001b[0m_raise_if_offline_mode_is_enabled\u001b[0m\u001b[0;34m(\u001b[0m\u001b[0;34m)\u001b[0m\u001b[0;34m\u001b[0m\u001b[0;34m\u001b[0m\u001b[0m\n\u001b[1;32m   1140\u001b[0m             \u001b[0;32mif\u001b[0m \u001b[0mpath\u001b[0m\u001b[0;34m.\u001b[0m\u001b[0mcount\u001b[0m\u001b[0;34m(\u001b[0m\u001b[0;34m\"/\"\u001b[0m\u001b[0;34m)\u001b[0m \u001b[0;34m==\u001b[0m \u001b[0;36m0\u001b[0m\u001b[0;34m:\u001b[0m  \u001b[0;31m# canonical datasets/metrics: github path\u001b[0m\u001b[0;34m\u001b[0m\u001b[0;34m\u001b[0m\u001b[0m\n\u001b[0;32m-> 1141\u001b[0;31m                 return CanonicalDatasetModuleFactory(\n\u001b[0m\u001b[1;32m   1142\u001b[0m                     \u001b[0mpath\u001b[0m\u001b[0;34m,\u001b[0m\u001b[0;34m\u001b[0m\u001b[0;34m\u001b[0m\u001b[0m\n\u001b[1;32m   1143\u001b[0m                     \u001b[0mrevision\u001b[0m\u001b[0;34m=\u001b[0m\u001b[0mrevision\u001b[0m\u001b[0;34m,\u001b[0m\u001b[0;34m\u001b[0m\u001b[0;34m\u001b[0m\u001b[0m\n",
      "\u001b[0;32m~/software/anaconda3/envs/bth/lib/python3.8/site-packages/datasets/load.py\u001b[0m in \u001b[0;36mget_module\u001b[0;34m(self)\u001b[0m\n\u001b[1;32m    531\u001b[0m                     \u001b[0;34mf\"It was picked from the master branch on github instead.\"\u001b[0m\u001b[0;34m\u001b[0m\u001b[0;34m\u001b[0m\u001b[0m\n\u001b[1;32m    532\u001b[0m                 )\n\u001b[0;32m--> 533\u001b[0;31m         \u001b[0mdataset_infos_path\u001b[0m \u001b[0;34m=\u001b[0m \u001b[0mself\u001b[0m\u001b[0;34m.\u001b[0m\u001b[0mdownload_dataset_infos_file\u001b[0m\u001b[0;34m(\u001b[0m\u001b[0mrevision\u001b[0m\u001b[0;34m)\u001b[0m\u001b[0;34m\u001b[0m\u001b[0;34m\u001b[0m\u001b[0m\n\u001b[0m\u001b[1;32m    534\u001b[0m         \u001b[0mimports\u001b[0m \u001b[0;34m=\u001b[0m \u001b[0mget_imports\u001b[0m\u001b[0;34m(\u001b[0m\u001b[0mlocal_path\u001b[0m\u001b[0;34m)\u001b[0m\u001b[0;34m\u001b[0m\u001b[0;34m\u001b[0m\u001b[0m\n\u001b[1;32m    535\u001b[0m         local_imports = _download_additional_modules(\n",
      "\u001b[0;32m~/software/anaconda3/envs/bth/lib/python3.8/site-packages/datasets/load.py\u001b[0m in \u001b[0;36mdownload_dataset_infos_file\u001b[0;34m(self, revision)\u001b[0m\n\u001b[1;32m    509\u001b[0m         \u001b[0;31m# Download the dataset infos file if available\u001b[0m\u001b[0;34m\u001b[0m\u001b[0;34m\u001b[0m\u001b[0;34m\u001b[0m\u001b[0m\n\u001b[1;32m    510\u001b[0m         \u001b[0;32mtry\u001b[0m\u001b[0;34m:\u001b[0m\u001b[0;34m\u001b[0m\u001b[0;34m\u001b[0m\u001b[0m\n\u001b[0;32m--> 511\u001b[0;31m             return cached_path(\n\u001b[0m\u001b[1;32m    512\u001b[0m                 \u001b[0mdataset_infos\u001b[0m\u001b[0;34m,\u001b[0m\u001b[0;34m\u001b[0m\u001b[0;34m\u001b[0m\u001b[0m\n\u001b[1;32m    513\u001b[0m                 \u001b[0mdownload_config\u001b[0m\u001b[0;34m=\u001b[0m\u001b[0mself\u001b[0m\u001b[0;34m.\u001b[0m\u001b[0mdownload_config\u001b[0m\u001b[0;34m,\u001b[0m\u001b[0;34m\u001b[0m\u001b[0;34m\u001b[0m\u001b[0m\n",
      "\u001b[0;32m~/software/anaconda3/envs/bth/lib/python3.8/site-packages/datasets/utils/file_utils.py\u001b[0m in \u001b[0;36mcached_path\u001b[0;34m(url_or_filename, download_config, **download_kwargs)\u001b[0m\n\u001b[1;32m    296\u001b[0m     \u001b[0;32mif\u001b[0m \u001b[0mis_remote_url\u001b[0m\u001b[0;34m(\u001b[0m\u001b[0murl_or_filename\u001b[0m\u001b[0;34m)\u001b[0m\u001b[0;34m:\u001b[0m\u001b[0;34m\u001b[0m\u001b[0;34m\u001b[0m\u001b[0m\n\u001b[1;32m    297\u001b[0m         \u001b[0;31m# URL, so get it from the cache (downloading if necessary)\u001b[0m\u001b[0;34m\u001b[0m\u001b[0;34m\u001b[0m\u001b[0;34m\u001b[0m\u001b[0m\n\u001b[0;32m--> 298\u001b[0;31m         output_path = get_from_cache(\n\u001b[0m\u001b[1;32m    299\u001b[0m             \u001b[0murl_or_filename\u001b[0m\u001b[0;34m,\u001b[0m\u001b[0;34m\u001b[0m\u001b[0;34m\u001b[0m\u001b[0m\n\u001b[1;32m    300\u001b[0m             \u001b[0mcache_dir\u001b[0m\u001b[0;34m=\u001b[0m\u001b[0mcache_dir\u001b[0m\u001b[0;34m,\u001b[0m\u001b[0;34m\u001b[0m\u001b[0;34m\u001b[0m\u001b[0m\n",
      "\u001b[0;32m~/software/anaconda3/envs/bth/lib/python3.8/site-packages/datasets/utils/file_utils.py\u001b[0m in \u001b[0;36mget_from_cache\u001b[0;34m(url, cache_dir, force_download, proxies, etag_timeout, resume_download, user_agent, local_files_only, use_etag, max_retries, use_auth_token, ignore_url_params)\u001b[0m\n\u001b[1;32m    657\u001b[0m                 \u001b[0mftp_get\u001b[0m\u001b[0;34m(\u001b[0m\u001b[0murl\u001b[0m\u001b[0;34m,\u001b[0m \u001b[0mtemp_file\u001b[0m\u001b[0;34m)\u001b[0m\u001b[0;34m\u001b[0m\u001b[0;34m\u001b[0m\u001b[0m\n\u001b[1;32m    658\u001b[0m             \u001b[0;32melse\u001b[0m\u001b[0;34m:\u001b[0m\u001b[0;34m\u001b[0m\u001b[0;34m\u001b[0m\u001b[0m\n\u001b[0;32m--> 659\u001b[0;31m                 http_get(\n\u001b[0m\u001b[1;32m    660\u001b[0m                     \u001b[0murl\u001b[0m\u001b[0;34m,\u001b[0m\u001b[0;34m\u001b[0m\u001b[0;34m\u001b[0m\u001b[0m\n\u001b[1;32m    661\u001b[0m                     \u001b[0mtemp_file\u001b[0m\u001b[0;34m,\u001b[0m\u001b[0;34m\u001b[0m\u001b[0;34m\u001b[0m\u001b[0m\n",
      "\u001b[0;32m~/software/anaconda3/envs/bth/lib/python3.8/site-packages/datasets/utils/file_utils.py\u001b[0m in \u001b[0;36mhttp_get\u001b[0;34m(url, temp_file, proxies, resume_size, headers, cookies, timeout, max_retries)\u001b[0m\n\u001b[1;32m    440\u001b[0m     \u001b[0;32mif\u001b[0m \u001b[0mresume_size\u001b[0m \u001b[0;34m>\u001b[0m \u001b[0;36m0\u001b[0m\u001b[0;34m:\u001b[0m\u001b[0;34m\u001b[0m\u001b[0;34m\u001b[0m\u001b[0m\n\u001b[1;32m    441\u001b[0m         \u001b[0mheaders\u001b[0m\u001b[0;34m[\u001b[0m\u001b[0;34m\"Range\"\u001b[0m\u001b[0;34m]\u001b[0m \u001b[0;34m=\u001b[0m \u001b[0;34mf\"bytes={resume_size:d}-\"\u001b[0m\u001b[0;34m\u001b[0m\u001b[0;34m\u001b[0m\u001b[0m\n\u001b[0;32m--> 442\u001b[0;31m     response = _request_with_retry(\n\u001b[0m\u001b[1;32m    443\u001b[0m         \u001b[0mmethod\u001b[0m\u001b[0;34m=\u001b[0m\u001b[0;34m\"GET\"\u001b[0m\u001b[0;34m,\u001b[0m\u001b[0;34m\u001b[0m\u001b[0;34m\u001b[0m\u001b[0m\n\u001b[1;32m    444\u001b[0m         \u001b[0murl\u001b[0m\u001b[0;34m=\u001b[0m\u001b[0murl\u001b[0m\u001b[0;34m,\u001b[0m\u001b[0;34m\u001b[0m\u001b[0;34m\u001b[0m\u001b[0m\n",
      "\u001b[0;32m~/software/anaconda3/envs/bth/lib/python3.8/site-packages/datasets/utils/file_utils.py\u001b[0m in \u001b[0;36m_request_with_retry\u001b[0;34m(method, url, max_retries, base_wait_time, max_wait_time, timeout, **params)\u001b[0m\n\u001b[1;32m    403\u001b[0m         \u001b[0mtries\u001b[0m \u001b[0;34m+=\u001b[0m \u001b[0;36m1\u001b[0m\u001b[0;34m\u001b[0m\u001b[0;34m\u001b[0m\u001b[0m\n\u001b[1;32m    404\u001b[0m         \u001b[0;32mtry\u001b[0m\u001b[0;34m:\u001b[0m\u001b[0;34m\u001b[0m\u001b[0;34m\u001b[0m\u001b[0m\n\u001b[0;32m--> 405\u001b[0;31m             \u001b[0mresponse\u001b[0m \u001b[0;34m=\u001b[0m \u001b[0mrequests\u001b[0m\u001b[0;34m.\u001b[0m\u001b[0mrequest\u001b[0m\u001b[0;34m(\u001b[0m\u001b[0mmethod\u001b[0m\u001b[0;34m=\u001b[0m\u001b[0mmethod\u001b[0m\u001b[0;34m.\u001b[0m\u001b[0mupper\u001b[0m\u001b[0;34m(\u001b[0m\u001b[0;34m)\u001b[0m\u001b[0;34m,\u001b[0m \u001b[0murl\u001b[0m\u001b[0;34m=\u001b[0m\u001b[0murl\u001b[0m\u001b[0;34m,\u001b[0m \u001b[0mtimeout\u001b[0m\u001b[0;34m=\u001b[0m\u001b[0mtimeout\u001b[0m\u001b[0;34m,\u001b[0m \u001b[0;34m**\u001b[0m\u001b[0mparams\u001b[0m\u001b[0;34m)\u001b[0m\u001b[0;34m\u001b[0m\u001b[0;34m\u001b[0m\u001b[0m\n\u001b[0m\u001b[1;32m    406\u001b[0m             \u001b[0msuccess\u001b[0m \u001b[0;34m=\u001b[0m \u001b[0;32mTrue\u001b[0m\u001b[0;34m\u001b[0m\u001b[0;34m\u001b[0m\u001b[0m\n\u001b[1;32m    407\u001b[0m         \u001b[0;32mexcept\u001b[0m \u001b[0;34m(\u001b[0m\u001b[0mrequests\u001b[0m\u001b[0;34m.\u001b[0m\u001b[0mexceptions\u001b[0m\u001b[0;34m.\u001b[0m\u001b[0mConnectTimeout\u001b[0m\u001b[0;34m,\u001b[0m \u001b[0mrequests\u001b[0m\u001b[0;34m.\u001b[0m\u001b[0mexceptions\u001b[0m\u001b[0;34m.\u001b[0m\u001b[0mConnectionError\u001b[0m\u001b[0;34m)\u001b[0m \u001b[0;32mas\u001b[0m \u001b[0merr\u001b[0m\u001b[0;34m:\u001b[0m\u001b[0;34m\u001b[0m\u001b[0;34m\u001b[0m\u001b[0m\n",
      "\u001b[0;32m~/software/anaconda3/envs/bth/lib/python3.8/site-packages/requests/api.py\u001b[0m in \u001b[0;36mrequest\u001b[0;34m(method, url, **kwargs)\u001b[0m\n\u001b[1;32m     59\u001b[0m     \u001b[0;31m# cases, and look like a memory leak in others.\u001b[0m\u001b[0;34m\u001b[0m\u001b[0;34m\u001b[0m\u001b[0;34m\u001b[0m\u001b[0m\n\u001b[1;32m     60\u001b[0m     \u001b[0;32mwith\u001b[0m \u001b[0msessions\u001b[0m\u001b[0;34m.\u001b[0m\u001b[0mSession\u001b[0m\u001b[0;34m(\u001b[0m\u001b[0;34m)\u001b[0m \u001b[0;32mas\u001b[0m \u001b[0msession\u001b[0m\u001b[0;34m:\u001b[0m\u001b[0;34m\u001b[0m\u001b[0;34m\u001b[0m\u001b[0m\n\u001b[0;32m---> 61\u001b[0;31m         \u001b[0;32mreturn\u001b[0m \u001b[0msession\u001b[0m\u001b[0;34m.\u001b[0m\u001b[0mrequest\u001b[0m\u001b[0;34m(\u001b[0m\u001b[0mmethod\u001b[0m\u001b[0;34m=\u001b[0m\u001b[0mmethod\u001b[0m\u001b[0;34m,\u001b[0m \u001b[0murl\u001b[0m\u001b[0;34m=\u001b[0m\u001b[0murl\u001b[0m\u001b[0;34m,\u001b[0m \u001b[0;34m**\u001b[0m\u001b[0mkwargs\u001b[0m\u001b[0;34m)\u001b[0m\u001b[0;34m\u001b[0m\u001b[0;34m\u001b[0m\u001b[0m\n\u001b[0m\u001b[1;32m     62\u001b[0m \u001b[0;34m\u001b[0m\u001b[0m\n\u001b[1;32m     63\u001b[0m \u001b[0;34m\u001b[0m\u001b[0m\n",
      "\u001b[0;32m~/software/anaconda3/envs/bth/lib/python3.8/site-packages/requests/sessions.py\u001b[0m in \u001b[0;36mrequest\u001b[0;34m(self, method, url, params, data, headers, cookies, files, auth, timeout, allow_redirects, proxies, hooks, stream, verify, cert, json)\u001b[0m\n\u001b[1;32m    527\u001b[0m         }\n\u001b[1;32m    528\u001b[0m         \u001b[0msend_kwargs\u001b[0m\u001b[0;34m.\u001b[0m\u001b[0mupdate\u001b[0m\u001b[0;34m(\u001b[0m\u001b[0msettings\u001b[0m\u001b[0;34m)\u001b[0m\u001b[0;34m\u001b[0m\u001b[0;34m\u001b[0m\u001b[0m\n\u001b[0;32m--> 529\u001b[0;31m         \u001b[0mresp\u001b[0m \u001b[0;34m=\u001b[0m \u001b[0mself\u001b[0m\u001b[0;34m.\u001b[0m\u001b[0msend\u001b[0m\u001b[0;34m(\u001b[0m\u001b[0mprep\u001b[0m\u001b[0;34m,\u001b[0m \u001b[0;34m**\u001b[0m\u001b[0msend_kwargs\u001b[0m\u001b[0;34m)\u001b[0m\u001b[0;34m\u001b[0m\u001b[0;34m\u001b[0m\u001b[0m\n\u001b[0m\u001b[1;32m    530\u001b[0m \u001b[0;34m\u001b[0m\u001b[0m\n\u001b[1;32m    531\u001b[0m         \u001b[0;32mreturn\u001b[0m \u001b[0mresp\u001b[0m\u001b[0;34m\u001b[0m\u001b[0;34m\u001b[0m\u001b[0m\n",
      "\u001b[0;32m~/software/anaconda3/envs/bth/lib/python3.8/site-packages/requests/sessions.py\u001b[0m in \u001b[0;36msend\u001b[0;34m(self, request, **kwargs)\u001b[0m\n\u001b[1;32m    643\u001b[0m \u001b[0;34m\u001b[0m\u001b[0m\n\u001b[1;32m    644\u001b[0m         \u001b[0;31m# Send the request\u001b[0m\u001b[0;34m\u001b[0m\u001b[0;34m\u001b[0m\u001b[0;34m\u001b[0m\u001b[0m\n\u001b[0;32m--> 645\u001b[0;31m         \u001b[0mr\u001b[0m \u001b[0;34m=\u001b[0m \u001b[0madapter\u001b[0m\u001b[0;34m.\u001b[0m\u001b[0msend\u001b[0m\u001b[0;34m(\u001b[0m\u001b[0mrequest\u001b[0m\u001b[0;34m,\u001b[0m \u001b[0;34m**\u001b[0m\u001b[0mkwargs\u001b[0m\u001b[0;34m)\u001b[0m\u001b[0;34m\u001b[0m\u001b[0;34m\u001b[0m\u001b[0m\n\u001b[0m\u001b[1;32m    646\u001b[0m \u001b[0;34m\u001b[0m\u001b[0m\n\u001b[1;32m    647\u001b[0m         \u001b[0;31m# Total elapsed time of the request (approximately)\u001b[0m\u001b[0;34m\u001b[0m\u001b[0;34m\u001b[0m\u001b[0;34m\u001b[0m\u001b[0m\n",
      "\u001b[0;32m~/software/anaconda3/envs/bth/lib/python3.8/site-packages/requests/adapters.py\u001b[0m in \u001b[0;36msend\u001b[0;34m(self, request, stream, timeout, verify, cert, proxies)\u001b[0m\n\u001b[1;32m    530\u001b[0m                 \u001b[0;32mraise\u001b[0m \u001b[0mSSLError\u001b[0m\u001b[0;34m(\u001b[0m\u001b[0me\u001b[0m\u001b[0;34m,\u001b[0m \u001b[0mrequest\u001b[0m\u001b[0;34m=\u001b[0m\u001b[0mrequest\u001b[0m\u001b[0;34m)\u001b[0m\u001b[0;34m\u001b[0m\u001b[0;34m\u001b[0m\u001b[0m\n\u001b[1;32m    531\u001b[0m             \u001b[0;32melif\u001b[0m \u001b[0misinstance\u001b[0m\u001b[0;34m(\u001b[0m\u001b[0me\u001b[0m\u001b[0;34m,\u001b[0m \u001b[0mReadTimeoutError\u001b[0m\u001b[0;34m)\u001b[0m\u001b[0;34m:\u001b[0m\u001b[0;34m\u001b[0m\u001b[0;34m\u001b[0m\u001b[0m\n\u001b[0;32m--> 532\u001b[0;31m                 \u001b[0;32mraise\u001b[0m \u001b[0mReadTimeout\u001b[0m\u001b[0;34m(\u001b[0m\u001b[0me\u001b[0m\u001b[0;34m,\u001b[0m \u001b[0mrequest\u001b[0m\u001b[0;34m=\u001b[0m\u001b[0mrequest\u001b[0m\u001b[0;34m)\u001b[0m\u001b[0;34m\u001b[0m\u001b[0;34m\u001b[0m\u001b[0m\n\u001b[0m\u001b[1;32m    533\u001b[0m             \u001b[0;32melif\u001b[0m \u001b[0misinstance\u001b[0m\u001b[0;34m(\u001b[0m\u001b[0me\u001b[0m\u001b[0;34m,\u001b[0m \u001b[0m_InvalidHeader\u001b[0m\u001b[0;34m)\u001b[0m\u001b[0;34m:\u001b[0m\u001b[0;34m\u001b[0m\u001b[0;34m\u001b[0m\u001b[0m\n\u001b[1;32m    534\u001b[0m                 \u001b[0;32mraise\u001b[0m \u001b[0mInvalidHeader\u001b[0m\u001b[0;34m(\u001b[0m\u001b[0me\u001b[0m\u001b[0;34m,\u001b[0m \u001b[0mrequest\u001b[0m\u001b[0;34m=\u001b[0m\u001b[0mrequest\u001b[0m\u001b[0;34m)\u001b[0m\u001b[0;34m\u001b[0m\u001b[0;34m\u001b[0m\u001b[0m\n",
      "\u001b[0;31mReadTimeout\u001b[0m: HTTPSConnectionPool(host='raw.githubusercontent.com', port=443): Read timed out. (read timeout=100.0)"
     ]
    }
   ],
   "source": [
    "from datasets import load_dataset\n",
    "\n",
    "dataset = load_dataset(\"wmt14\")"
   ]
  },
  {
   "cell_type": "code",
   "execution_count": 9,
   "metadata": {},
   "outputs": [],
   "source": [
    "import torch\n",
    "import torch.optim as optim\n",
    "import torch.nn as nn\n",
    "import matplotlib.pyplot as plt\n",
    "import seaborn as sns\n",
    "import numpy as np"
   ]
  },
  {
   "cell_type": "code",
   "execution_count": 10,
   "metadata": {},
   "outputs": [],
   "source": [
    "class CosineWarmupScheduler(optim.lr_scheduler._LRScheduler):\n",
    "    def __init__(self, optimizer, warmup, max_iters):\n",
    "        self.warmup = warmup\n",
    "        self.max_num_iters = max_iters\n",
    "        super().__init__(optimizer)\n",
    "\n",
    "    def get_lr(self):\n",
    "        lr_factor = self.get_lr_factor(epoch=self.last_epoch)\n",
    "        return [base_lr * lr_factor for base_lr in self.base_lrs]\n",
    "\n",
    "    def get_lr_factor(self, epoch):\n",
    "        lr_factor = 0.5 * (1 + np.cos(np.pi * epoch / self.max_num_iters))\n",
    "        if epoch <= self.warmup:\n",
    "            lr_factor *= epoch * 1.0 / self.warmup\n",
    "        return lr_factor"
   ]
  },
  {
   "cell_type": "code",
   "execution_count": 12,
   "metadata": {},
   "outputs": [
    {
     "data": {
      "image/png": "[encoded data removed]",
      "text/plain": [
       "<Figure size 576x216 with 1 Axes>"
      ]
     },
     "metadata": {},
     "output_type": "display_data"
    },
    {
     "data": {
      "text/plain": [
       "0.9938441702975689"
      ]
     },
     "execution_count": 12,
     "metadata": {},
     "output_type": "execute_result"
    }
   ],
   "source": [
    "# Needed for initializing the lr scheduler\n",
    "p = nn.Parameter(torch.empty(4, 4))\n",
    "optimizer = optim.Adam([p], lr=1e-3)\n",
    "lr_scheduler = CosineWarmupScheduler(optimizer=optimizer, warmup=100, max_iters=2000)\n",
    "\n",
    "# Plotting\n",
    "epochs = list(range(2000))\n",
    "sns.set()\n",
    "plt.figure(figsize=(8, 3))\n",
    "plt.plot(epochs, [lr_scheduler.get_lr_factor(e) for e in epochs])\n",
    "plt.ylabel(\"Learning rate factor\")\n",
    "plt.xlabel(\"Iterations (in batches)\")\n",
    "plt.title(\"Cosine Warm-up Learning Rate Scheduler\")\n",
    "plt.show()\n",
    "sns.reset_orig()\n",
    "lr_scheduler.get_lr_factor(100)"
   ]
  },
  {
   "cell_type": "code",
   "execution_count": 14,
   "metadata": {},
   "outputs": [
    {
     "data": {
      "text/plain": [
       "0.9938441702975689"
      ]
     },
     "execution_count": 14,
     "metadata": {},
     "output_type": "execute_result"
    }
   ],
   "source": [
    "(np.cos(np.pi*0.05)+1)/2"
   ]
  },
  {
   "cell_type": "code",
   "execution_count": null,
   "metadata": {},
   "outputs": [],
   "source": []
  }
 ],
 "metadata": {
  "interpreter": {
   "hash": "22efc8b8102f82d4a44f66b4503eb30fe739cabbd084ae587d3b17a02d44700e"
  },
  "kernelspec": {
   "display_name": "Python 3.8.0 ('bth')",
   "language": "python",
   "name": "python3"
  },
  "language_info": {
   "codemirror_mode": {
    "name": "ipython",
    "version": 3
   },
   "file_extension": ".py",
   "mimetype": "text/x-python",
   "name": "python",
   "nbconvert_exporter": "python",
   "pygments_lexer": "ipython3",
   "version": "3.8.0"
  },
  "orig_nbformat": 4
 },
 "nbformat": 4,
 "nbformat_minor": 2
}
